{
 "cells": [
  {
   "cell_type": "code",
   "execution_count": 15,
   "metadata": {},
   "outputs": [],
   "source": [
    "import sys\n",
    "sys.path.append('../src')\n",
    "# Import necessary modules\n",
    "from eda import EDA\n",
    "import pandas as pd\n",
    "from visualizations import SalesVisualizer"
   ]
  },
  {
   "cell_type": "code",
   "execution_count": 2,
   "metadata": {},
   "outputs": [],
   "source": [
    "\n",
    "# Initialize EDA class\n",
    "eda = EDA(train_path='../data/raw/train.csv', store_path='../data/raw/store.csv' )\n"
   ]
  },
  {
   "cell_type": "code",
   "execution_count": 3,
   "metadata": {},
   "outputs": [
    {
     "name": "stderr",
     "output_type": "stream",
     "text": [
      "2025-01-03 20:06:55,686 - EDA - INFO - Loading train and store datasets...\n",
      "c:\\Users\\bksam\\Rossmann-Sales-Forecasting\\notebooks\\../src\\eda.py:19: DtypeWarning: Columns (7) have mixed types. Specify dtype option on import or set low_memory=False.\n",
      "  train_df = pd.read_csv(self.train_path)\n",
      "2025-01-03 20:06:56,566 - EDA - INFO - Datasets loaded successfully. Merging them...\n",
      "2025-01-03 20:06:56,912 - EDA - INFO - Datasets merged successfully.\n"
     ]
    },
    {
     "name": "stdout",
     "output_type": "stream",
     "text": [
      "Data merged successfully.\n"
     ]
    }
   ],
   "source": [
    "# Load and merge datasets\n",
    "merged_df = eda.load_and_merge_data()\n",
    "print(\"Data merged successfully.\")"
   ]
  },
  {
   "cell_type": "markdown",
   "metadata": {},
   "source": [
    "Loaded and merged our train data and store data to perform Data exploration"
   ]
  },
  {
   "cell_type": "code",
   "execution_count": 5,
   "metadata": {},
   "outputs": [
    {
     "name": "stderr",
     "output_type": "stream",
     "text": [
      "2025-01-03 14:01:03,826 - EDA - INFO - Exploring dataset...\n",
      "2025-01-03 14:01:03,833 - EDA - INFO - First 5 Rows:\n",
      "   Store  DayOfWeek        Date  Sales  Customers  Open  Promo StateHoliday  \\\n",
      "0      1          5  2015-07-31   5263        555     1      1            0   \n",
      "1      2          5  2015-07-31   6064        625     1      1            0   \n",
      "2      3          5  2015-07-31   8314        821     1      1            0   \n",
      "3      4          5  2015-07-31  13995       1498     1      1            0   \n",
      "4      5          5  2015-07-31   4822        559     1      1            0   \n",
      "\n",
      "   SchoolHoliday StoreType Assortment  CompetitionDistance  \\\n",
      "0              1         c          a               1270.0   \n",
      "1              1         a          a                570.0   \n",
      "2              1         a          a              14130.0   \n",
      "3              1         c          c                620.0   \n",
      "4              1         a          a              29910.0   \n",
      "\n",
      "   CompetitionOpenSinceMonth  CompetitionOpenSinceYear  Promo2  \\\n",
      "0                        9.0                    2008.0       0   \n",
      "1                       11.0                    2007.0       1   \n",
      "2                       12.0                    2006.0       1   \n",
      "3                        9.0                    2009.0       0   \n",
      "4                        4.0                    2015.0       0   \n",
      "\n",
      "   Promo2SinceWeek  Promo2SinceYear    PromoInterval  \n",
      "0              NaN              NaN              NaN  \n",
      "1             13.0           2010.0  Jan,Apr,Jul,Oct  \n",
      "2             14.0           2011.0  Jan,Apr,Jul,Oct  \n",
      "3              NaN              NaN              NaN  \n",
      "4              NaN              NaN              NaN  \n",
      "2025-01-03 14:01:04,019 - EDA - INFO - Data Info collected successfully.\n"
     ]
    },
    {
     "name": "stdout",
     "output_type": "stream",
     "text": [
      "<class 'pandas.core.frame.DataFrame'>\n",
      "RangeIndex: 1017209 entries, 0 to 1017208\n",
      "Data columns (total 18 columns):\n",
      " #   Column                     Non-Null Count    Dtype  \n",
      "---  ------                     --------------    -----  \n",
      " 0   Store                      1017209 non-null  int64  \n",
      " 1   DayOfWeek                  1017209 non-null  int64  \n",
      " 2   Date                       1017209 non-null  object \n",
      " 3   Sales                      1017209 non-null  int64  \n",
      " 4   Customers                  1017209 non-null  int64  \n",
      " 5   Open                       1017209 non-null  int64  \n",
      " 6   Promo                      1017209 non-null  int64  \n",
      " 7   StateHoliday               1017209 non-null  object \n",
      " 8   SchoolHoliday              1017209 non-null  int64  \n",
      " 9   StoreType                  1017209 non-null  object \n",
      " 10  Assortment                 1017209 non-null  object \n",
      " 11  CompetitionDistance        1014567 non-null  float64\n",
      " 12  CompetitionOpenSinceMonth  693861 non-null   float64\n",
      " 13  CompetitionOpenSinceYear   693861 non-null   float64\n",
      " 14  Promo2                     1017209 non-null  int64  \n",
      " 15  Promo2SinceWeek            509178 non-null   float64\n",
      " 16  Promo2SinceYear            509178 non-null   float64\n",
      " 17  PromoInterval              509178 non-null   object \n",
      "dtypes: float64(5), int64(8), object(5)\n",
      "memory usage: 139.7+ MB\n"
     ]
    },
    {
     "name": "stderr",
     "output_type": "stream",
     "text": [
      "2025-01-03 14:01:04,861 - EDA - INFO - Basic Statistics:\n",
      "              Store     DayOfWeek         Sales     Customers          Open  \\\n",
      "count  1.017209e+06  1.017209e+06  1.017209e+06  1.017209e+06  1.017209e+06   \n",
      "mean   5.584297e+02  3.998341e+00  5.773819e+03  6.331459e+02  8.301067e-01   \n",
      "std    3.219087e+02  1.997391e+00  3.849926e+03  4.644117e+02  3.755392e-01   \n",
      "min    1.000000e+00  1.000000e+00  0.000000e+00  0.000000e+00  0.000000e+00   \n",
      "25%    2.800000e+02  2.000000e+00  3.727000e+03  4.050000e+02  1.000000e+00   \n",
      "50%    5.580000e+02  4.000000e+00  5.744000e+03  6.090000e+02  1.000000e+00   \n",
      "75%    8.380000e+02  6.000000e+00  7.856000e+03  8.370000e+02  1.000000e+00   \n",
      "max    1.115000e+03  7.000000e+00  4.155100e+04  7.388000e+03  1.000000e+00   \n",
      "\n",
      "              Promo  SchoolHoliday  CompetitionDistance  \\\n",
      "count  1.017209e+06   1.017209e+06         1.014567e+06   \n",
      "mean   3.815145e-01   1.786467e-01         5.430086e+03   \n",
      "std    4.857586e-01   3.830564e-01         7.715324e+03   \n",
      "min    0.000000e+00   0.000000e+00         2.000000e+01   \n",
      "25%    0.000000e+00   0.000000e+00         7.100000e+02   \n",
      "50%    0.000000e+00   0.000000e+00         2.330000e+03   \n",
      "75%    1.000000e+00   0.000000e+00         6.890000e+03   \n",
      "max    1.000000e+00   1.000000e+00         7.586000e+04   \n",
      "\n",
      "       CompetitionOpenSinceMonth  CompetitionOpenSinceYear        Promo2  \\\n",
      "count              693861.000000             693861.000000  1.017209e+06   \n",
      "mean                    7.222866               2008.690228  5.005638e-01   \n",
      "std                     3.211832                  5.992644  4.999999e-01   \n",
      "min                     1.000000               1900.000000  0.000000e+00   \n",
      "25%                     4.000000               2006.000000  0.000000e+00   \n",
      "50%                     8.000000               2010.000000  1.000000e+00   \n",
      "75%                    10.000000               2013.000000  1.000000e+00   \n",
      "max                    12.000000               2015.000000  1.000000e+00   \n",
      "\n",
      "       Promo2SinceWeek  Promo2SinceYear  \n",
      "count    509178.000000    509178.000000  \n",
      "mean         23.269093      2011.752774  \n",
      "std          14.095973         1.662870  \n",
      "min           1.000000      2009.000000  \n",
      "25%          13.000000      2011.000000  \n",
      "50%          22.000000      2012.000000  \n",
      "75%          37.000000      2013.000000  \n",
      "max          50.000000      2015.000000  \n"
     ]
    }
   ],
   "source": [
    "# Explore Data\n",
    "head, info, stats = eda.explore_data()"
   ]
  },
  {
   "cell_type": "markdown",
   "metadata": {},
   "source": [
    "### Data Exploration\n",
    "In this step, we explored the dataset by checking its basic properties and summarizing the key statistics:\n",
    "\n",
    "1. **First 5 Rows**:\n",
    "   - Displayed the first 5 rows to get an initial view of the dataset's structure and the type of data it holds.\n",
    "   \n",
    "2. **Data Information**:\n",
    "   - Provided an overview of the dataset, including the number of entries (1,017,209) and columns (18).\n",
    "   - Listed the column names, data types, and the number of non-null values in each column.\n",
    "   - Notably, some columns like `CompetitionDistance`, `CompetitionOpenSinceMonth`, and `Promo2SinceWeek` contain missing values.\n",
    "\n",
    "3. **Basic Statistics**:\n",
    "   - Displayed summary statistics for numerical columns, including mean, standard deviation, min, max, and quartiles.\n",
    "   - For instance, `Sales` has a mean of 5,773.8 with a max value of 41,551, while `CompetitionDistance` has a mean of 5,430.1 with a large range.\n"
   ]
  },
  {
   "cell_type": "code",
   "execution_count": 7,
   "metadata": {},
   "outputs": [
    {
     "name": "stderr",
     "output_type": "stream",
     "text": [
      "2025-01-03 14:23:12,603 - EDA - INFO - Checking for missing values in the dataset...\n",
      "2025-01-03 14:23:12,978 - EDA - INFO - Missing values calculated successfully.\n",
      "2025-01-03 14:23:12,989 - EDA - INFO - Missing Values Summary:\n",
      "                           Missing Values  Percentage\n",
      "Promo2SinceWeek                    508031   49.943620\n",
      "PromoInterval                      508031   49.943620\n",
      "Promo2SinceYear                    508031   49.943620\n",
      "CompetitionOpenSinceYear           323348   31.787764\n",
      "CompetitionOpenSinceMonth          323348   31.787764\n",
      "CompetitionDistance                  2642    0.259730\n"
     ]
    }
   ],
   "source": [
    "# Check Missing Values\n",
    "missing_values_df = eda.check_missing_values()"
   ]
  },
  {
   "cell_type": "markdown",
   "metadata": {},
   "source": [
    "### Missing Data\n",
    "Next, we focused on checking and understanding the missing data in the dataset:\n",
    "\n",
    "1. **Checking for Missing Values**:\n",
    "   - We identified that some columns have missing values, specifically `Promo2SinceWeek`, `PromoInterval`, `Promo2SinceYear`, and others.\n",
    "   \n",
    "2. **Missing Values Summary**:\n",
    "   - A summary was provided listing the columns with missing values along with the number of missing entries and the percentage of missing data.\n",
    "   - Key columns with missing data include:\n",
    "     - `Promo2SinceWeek`, `PromoInterval`, and `Promo2SinceYear` (all have around 50% missing values).\n",
    "     - `CompetitionOpenSinceYear` and `CompetitionOpenSinceMonth` (approximately 31.7% missing values).\n",
    "     - `CompetitionDistance` (only a small fraction of missing values—0.26%)."
   ]
  },
  {
   "cell_type": "markdown",
   "metadata": {},
   "source": [
    "### Conclusion and Next Steps\n",
    "\n",
    "**Conclusion**:\n",
    "- The dataset contains a significant amount of missing values, particularly in the columns related to promotions (`Promo2SinceWeek`, `PromoInterval`, `Promo2SinceYear`), and competition-related features (`CompetitionOpenSinceYear`, `CompetitionOpenSinceMonth`).\n",
    "- While some columns, like `CompetitionDistance`, have minimal missing data, others, like `PromoInterval` and `Promo2SinceWeek`, have a considerable percentage of missing values (~50%).\n",
    "\n",
    "**Next Steps**\n",
    "1. **Clean data**\n",
    "2. **Detect outliners**\n",
    "3. **Handle outliners using appropraite methods**"
   ]
  },
  {
   "cell_type": "code",
   "execution_count": 4,
   "metadata": {},
   "outputs": [
    {
     "name": "stderr",
     "output_type": "stream",
     "text": [
      "2025-01-03 20:07:05,514 - EDA - INFO - Processing and cleaning data: Handling missing values, converting data types, and checking for negative values...\n",
      "c:\\Users\\bksam\\Rossmann-Sales-Forecasting\\notebooks\\../src\\eda.py:91: FutureWarning: A value is trying to be set on a copy of a DataFrame or Series through chained assignment using an inplace method.\n",
      "The behavior will change in pandas 3.0. This inplace method will never work because the intermediate object on which we are setting values always behaves as a copy.\n",
      "\n",
      "For example, when doing 'df[col].method(value, inplace=True)', try using 'df.method({col: value}, inplace=True)' or df[col] = df[col].method(value) instead, to perform the operation inplace on the original object.\n",
      "\n",
      "\n",
      "  self.df[column].fillna(self.df[column].median(), inplace=True)\n",
      "2025-01-03 20:07:05,657 - EDA - INFO - Missing values in 'CompetitionDistance' filled with median value.\n",
      "c:\\Users\\bksam\\Rossmann-Sales-Forecasting\\notebooks\\../src\\eda.py:91: FutureWarning: A value is trying to be set on a copy of a DataFrame or Series through chained assignment using an inplace method.\n",
      "The behavior will change in pandas 3.0. This inplace method will never work because the intermediate object on which we are setting values always behaves as a copy.\n",
      "\n",
      "For example, when doing 'df[col].method(value, inplace=True)', try using 'df.method({col: value}, inplace=True)' or df[col] = df[col].method(value) instead, to perform the operation inplace on the original object.\n",
      "\n",
      "\n",
      "  self.df[column].fillna(self.df[column].median(), inplace=True)\n",
      "2025-01-03 20:07:05,690 - EDA - INFO - Missing values in 'CompetitionOpenSinceMonth' filled with median value.\n",
      "c:\\Users\\bksam\\Rossmann-Sales-Forecasting\\notebooks\\../src\\eda.py:91: FutureWarning: A value is trying to be set on a copy of a DataFrame or Series through chained assignment using an inplace method.\n",
      "The behavior will change in pandas 3.0. This inplace method will never work because the intermediate object on which we are setting values always behaves as a copy.\n",
      "\n",
      "For example, when doing 'df[col].method(value, inplace=True)', try using 'df.method({col: value}, inplace=True)' or df[col] = df[col].method(value) instead, to perform the operation inplace on the original object.\n",
      "\n",
      "\n",
      "  self.df[column].fillna(self.df[column].median(), inplace=True)\n",
      "2025-01-03 20:07:05,739 - EDA - INFO - Missing values in 'CompetitionOpenSinceYear' filled with median value.\n",
      "c:\\Users\\bksam\\Rossmann-Sales-Forecasting\\notebooks\\../src\\eda.py:91: FutureWarning: A value is trying to be set on a copy of a DataFrame or Series through chained assignment using an inplace method.\n",
      "The behavior will change in pandas 3.0. This inplace method will never work because the intermediate object on which we are setting values always behaves as a copy.\n",
      "\n",
      "For example, when doing 'df[col].method(value, inplace=True)', try using 'df.method({col: value}, inplace=True)' or df[col] = df[col].method(value) instead, to perform the operation inplace on the original object.\n",
      "\n",
      "\n",
      "  self.df[column].fillna(self.df[column].median(), inplace=True)\n",
      "2025-01-03 20:07:05,801 - EDA - INFO - Missing values in 'Promo2SinceWeek' filled with median value.\n",
      "c:\\Users\\bksam\\Rossmann-Sales-Forecasting\\notebooks\\../src\\eda.py:91: FutureWarning: A value is trying to be set on a copy of a DataFrame or Series through chained assignment using an inplace method.\n",
      "The behavior will change in pandas 3.0. This inplace method will never work because the intermediate object on which we are setting values always behaves as a copy.\n",
      "\n",
      "For example, when doing 'df[col].method(value, inplace=True)', try using 'df.method({col: value}, inplace=True)' or df[col] = df[col].method(value) instead, to perform the operation inplace on the original object.\n",
      "\n",
      "\n",
      "  self.df[column].fillna(self.df[column].median(), inplace=True)\n",
      "2025-01-03 20:07:05,867 - EDA - INFO - Missing values in 'Promo2SinceYear' filled with median value.\n",
      "c:\\Users\\bksam\\Rossmann-Sales-Forecasting\\notebooks\\../src\\eda.py:86: FutureWarning: A value is trying to be set on a copy of a DataFrame or Series through chained assignment using an inplace method.\n",
      "The behavior will change in pandas 3.0. This inplace method will never work because the intermediate object on which we are setting values always behaves as a copy.\n",
      "\n",
      "For example, when doing 'df[col].method(value, inplace=True)', try using 'df.method({col: value}, inplace=True)' or df[col] = df[col].method(value) instead, to perform the operation inplace on the original object.\n",
      "\n",
      "\n",
      "  self.df[column].fillna('Unknown', inplace=True)\n",
      "2025-01-03 20:07:06,036 - EDA - INFO - Missing values in 'PromoInterval' filled with 'Unknown'.\n",
      "2025-01-03 20:07:06,146 - EDA - INFO - Converted 'StateHoliday' to category.\n",
      "2025-01-03 20:07:06,263 - EDA - INFO - Converted 'StoreType' to category.\n",
      "2025-01-03 20:07:06,322 - EDA - INFO - Converted 'Assortment' to category.\n",
      "2025-01-03 20:07:06,459 - EDA - INFO - Converted 'PromoInterval' to category.\n",
      "2025-01-03 20:07:06,648 - EDA - INFO - Converted 'Date' to datetime.\n",
      "2025-01-03 20:07:06,861 - EDA - INFO - Converted 'CompetitionOpenSinceMonth' to Int64.\n",
      "2025-01-03 20:07:07,082 - EDA - INFO - Converted 'CompetitionOpenSinceYear' to Int64.\n",
      "2025-01-03 20:07:07,282 - EDA - INFO - Data processing and cleaning completed.\n"
     ]
    },
    {
     "name": "stdout",
     "output_type": "stream",
     "text": [
      "Data cleaned successfully.\n"
     ]
    }
   ],
   "source": [
    "# Process and clean the data\n",
    "cleaned_df = eda.process_and_clean_data()\n",
    "print(\"Data cleaned successfully.\")"
   ]
  },
  {
   "cell_type": "code",
   "execution_count": 5,
   "metadata": {},
   "outputs": [
    {
     "name": "stdout",
     "output_type": "stream",
     "text": [
      "Missing Values After Cleaning:\n",
      "Store                        0\n",
      "DayOfWeek                    0\n",
      "Date                         0\n",
      "Sales                        0\n",
      "Customers                    0\n",
      "Open                         0\n",
      "Promo                        0\n",
      "StateHoliday                 0\n",
      "SchoolHoliday                0\n",
      "StoreType                    0\n",
      "Assortment                   0\n",
      "CompetitionDistance          0\n",
      "CompetitionOpenSinceMonth    0\n",
      "CompetitionOpenSinceYear     0\n",
      "Promo2                       0\n",
      "Promo2SinceWeek              0\n",
      "Promo2SinceYear              0\n",
      "PromoInterval                0\n",
      "dtype: int64\n"
     ]
    }
   ],
   "source": [
    "# Check for missing values after cleaning\n",
    "missing_values_after_cleaning = eda.df.isnull().sum()\n",
    "\n",
    "# Display missing values summary\n",
    "print(\"Missing Values After Cleaning:\")\n",
    "print(missing_values_after_cleaning)\n"
   ]
  },
  {
   "cell_type": "markdown",
   "metadata": {},
   "source": [
    "### Data Cleaning and Missing Values Handling\n",
    "\n",
    "In this step, we handled the missing values in the dataset by performing the following actions:\n",
    "\n",
    "1. **Categorical Columns**:\n",
    "   - Missing values in categorical columns were filled with the string `'Unknown'`.\n",
    "\n",
    "2. **Numerical Columns**:\n",
    "   - Missing values in numerical columns were filled with the **median** value of the respective column.\n",
    "\n",
    "3. **Data Type Conversion**:\n",
    "   - Certain columns were explicitly converted to appropriate data types:\n",
    "     - `StateHoliday`, `StoreType`, `Assortment`, `PromoInterval` were converted to **category** type.\n",
    "     - `Date` was converted to **datetime** type.\n",
    "     - `CompetitionOpenSinceMonth` and `CompetitionOpenSinceYear` were converted to **Int64** type.\n",
    "\n",
    "4. **Handling Negative Values**:\n",
    "   - Negative values in numerical columns were identified and replaced with **0**.\n",
    "\n",
    "After these transformations, the dataset has been cleaned, and the missing values handled correctly.\n"
   ]
  },
  {
   "cell_type": "code",
   "execution_count": 5,
   "metadata": {},
   "outputs": [
    {
     "name": "stderr",
     "output_type": "stream",
     "text": [
      "2025-01-03 20:07:12,031 - EDA - INFO - Handling outliers using the IQR method...\n",
      "2025-01-03 20:07:12,243 - EDA - INFO - Outliers handled in column 'Sales': 26694 values capped.\n",
      "2025-01-03 20:07:12,293 - EDA - INFO - Outliers handled in column 'Customers': 38095 values capped.\n",
      "2025-01-03 20:07:12,329 - EDA - INFO - Outliers handled in column 'Open': 172817 values capped.\n",
      "2025-01-03 20:07:12,381 - EDA - INFO - Outliers handled in column 'SchoolHoliday': 181721 values capped.\n",
      "2025-01-03 20:07:12,445 - EDA - INFO - Outliers handled in column 'CompetitionDistance': 99160 values capped.\n",
      "2025-01-03 20:07:12,511 - EDA - INFO - Outliers handled in column 'CompetitionOpenSinceMonth': 12452 values capped.\n",
      "2025-01-03 20:07:12,568 - EDA - INFO - Outliers handled in column 'CompetitionOpenSinceYear': 83904 values capped.\n",
      "2025-01-03 20:07:12,636 - EDA - INFO - Outliers handled in column 'Promo2SinceWeek': 480484 values capped.\n",
      "2025-01-03 20:07:12,686 - EDA - INFO - Outliers handled in column 'Promo2SinceYear': 436004 values capped.\n",
      "2025-01-03 20:07:12,688 - EDA - INFO - Outlier handling completed successfully.\n"
     ]
    },
    {
     "name": "stdout",
     "output_type": "stream",
     "text": [
      "Outliers handled successfully.\n"
     ]
    }
   ],
   "source": [
    "# Handle outliers in the cleaned dataset\n",
    "cleaned_df = eda.handle_outliers()\n",
    "print(\"Outliers handled successfully.\")\n"
   ]
  },
  {
   "cell_type": "code",
   "execution_count": 8,
   "metadata": {},
   "outputs": [
    {
     "name": "stdout",
     "output_type": "stream",
     "text": [
      "Test data loaded successfully. Shape: (41088, 8)\n"
     ]
    },
    {
     "data": {
      "text/html": [
       "<div>\n",
       "<style scoped>\n",
       "    .dataframe tbody tr th:only-of-type {\n",
       "        vertical-align: middle;\n",
       "    }\n",
       "\n",
       "    .dataframe tbody tr th {\n",
       "        vertical-align: top;\n",
       "    }\n",
       "\n",
       "    .dataframe thead th {\n",
       "        text-align: right;\n",
       "    }\n",
       "</style>\n",
       "<table border=\"1\" class=\"dataframe\">\n",
       "  <thead>\n",
       "    <tr style=\"text-align: right;\">\n",
       "      <th></th>\n",
       "      <th>Id</th>\n",
       "      <th>Store</th>\n",
       "      <th>DayOfWeek</th>\n",
       "      <th>Date</th>\n",
       "      <th>Open</th>\n",
       "      <th>Promo</th>\n",
       "      <th>StateHoliday</th>\n",
       "      <th>SchoolHoliday</th>\n",
       "    </tr>\n",
       "  </thead>\n",
       "  <tbody>\n",
       "    <tr>\n",
       "      <th>0</th>\n",
       "      <td>1</td>\n",
       "      <td>1</td>\n",
       "      <td>4</td>\n",
       "      <td>2015-09-17</td>\n",
       "      <td>1.0</td>\n",
       "      <td>1</td>\n",
       "      <td>0</td>\n",
       "      <td>0</td>\n",
       "    </tr>\n",
       "    <tr>\n",
       "      <th>1</th>\n",
       "      <td>2</td>\n",
       "      <td>3</td>\n",
       "      <td>4</td>\n",
       "      <td>2015-09-17</td>\n",
       "      <td>1.0</td>\n",
       "      <td>1</td>\n",
       "      <td>0</td>\n",
       "      <td>0</td>\n",
       "    </tr>\n",
       "    <tr>\n",
       "      <th>2</th>\n",
       "      <td>3</td>\n",
       "      <td>7</td>\n",
       "      <td>4</td>\n",
       "      <td>2015-09-17</td>\n",
       "      <td>1.0</td>\n",
       "      <td>1</td>\n",
       "      <td>0</td>\n",
       "      <td>0</td>\n",
       "    </tr>\n",
       "    <tr>\n",
       "      <th>3</th>\n",
       "      <td>4</td>\n",
       "      <td>8</td>\n",
       "      <td>4</td>\n",
       "      <td>2015-09-17</td>\n",
       "      <td>1.0</td>\n",
       "      <td>1</td>\n",
       "      <td>0</td>\n",
       "      <td>0</td>\n",
       "    </tr>\n",
       "    <tr>\n",
       "      <th>4</th>\n",
       "      <td>5</td>\n",
       "      <td>9</td>\n",
       "      <td>4</td>\n",
       "      <td>2015-09-17</td>\n",
       "      <td>1.0</td>\n",
       "      <td>1</td>\n",
       "      <td>0</td>\n",
       "      <td>0</td>\n",
       "    </tr>\n",
       "  </tbody>\n",
       "</table>\n",
       "</div>"
      ],
      "text/plain": [
       "   Id  Store  DayOfWeek        Date  Open  Promo StateHoliday  SchoolHoliday\n",
       "0   1      1          4  2015-09-17   1.0      1            0              0\n",
       "1   2      3          4  2015-09-17   1.0      1            0              0\n",
       "2   3      7          4  2015-09-17   1.0      1            0              0\n",
       "3   4      8          4  2015-09-17   1.0      1            0              0\n",
       "4   5      9          4  2015-09-17   1.0      1            0              0"
      ]
     },
     "execution_count": 8,
     "metadata": {},
     "output_type": "execute_result"
    }
   ],
   "source": [
    "# Load test dataset\n",
    "test_path = '../data/raw/test.csv'  # Update the path to your test data if different\n",
    "test_df = pd.read_csv(test_path)\n",
    "print(f\"Test data loaded successfully. Shape: {test_df.shape}\")\n",
    "\n",
    "# Preview test data\n",
    "test_df.head()\n"
   ]
  },
  {
   "cell_type": "code",
   "execution_count": 9,
   "metadata": {},
   "outputs": [
    {
     "name": "stderr",
     "output_type": "stream",
     "text": [
      "2025-01-03 20:08:29,912 - EDA - INFO - Processing and cleaning data: Handling missing values, converting data types, and checking for negative values...\n",
      "c:\\Users\\bksam\\Rossmann-Sales-Forecasting\\notebooks\\../src\\eda.py:91: FutureWarning: A value is trying to be set on a copy of a DataFrame or Series through chained assignment using an inplace method.\n",
      "The behavior will change in pandas 3.0. This inplace method will never work because the intermediate object on which we are setting values always behaves as a copy.\n",
      "\n",
      "For example, when doing 'df[col].method(value, inplace=True)', try using 'df.method({col: value}, inplace=True)' or df[col] = df[col].method(value) instead, to perform the operation inplace on the original object.\n",
      "\n",
      "\n",
      "  self.df[column].fillna(self.df[column].median(), inplace=True)\n",
      "2025-01-03 20:08:29,924 - EDA - INFO - Missing values in 'Open' filled with median value.\n",
      "2025-01-03 20:08:29,931 - EDA - INFO - Converted 'StateHoliday' to category.\n",
      "2025-01-03 20:08:29,940 - EDA - INFO - Converted 'Date' to datetime.\n",
      "2025-01-03 20:08:29,943 - EDA - INFO - Data processing and cleaning completed.\n"
     ]
    },
    {
     "name": "stdout",
     "output_type": "stream",
     "text": [
      "Test data cleaned successfully.\n"
     ]
    }
   ],
   "source": [
    "# Initialize a new EDA instance for test data (if reusing class methods)\n",
    "eda_test = EDA(train_path=None, store_path=None)  # Paths are not used for test\n",
    "\n",
    "# Set the test dataset as the active DataFrame for EDA operations\n",
    "eda_test.df = test_df\n",
    "\n",
    "# Clean test data\n",
    "cleaned_test_df = eda_test.process_and_clean_data()\n",
    "print(\"Test data cleaned successfully.\")\n"
   ]
  },
  {
   "cell_type": "code",
   "execution_count": 10,
   "metadata": {},
   "outputs": [
    {
     "name": "stderr",
     "output_type": "stream",
     "text": [
      "2025-01-03 20:08:48,359 - EDA - INFO - Handling outliers using the IQR method...\n",
      "2025-01-03 20:08:48,372 - EDA - INFO - Outliers handled in column 'Open': 5984 values capped.\n",
      "2025-01-03 20:08:48,378 - EDA - INFO - Outlier handling completed successfully.\n"
     ]
    },
    {
     "name": "stdout",
     "output_type": "stream",
     "text": [
      "Outliers handled in test data.\n"
     ]
    }
   ],
   "source": [
    "# Handle outliers in the test dataset\n",
    "cleaned_test_df = eda_test.handle_outliers()\n",
    "print(\"Outliers handled in test data.\")\n"
   ]
  },
  {
   "cell_type": "code",
   "execution_count": 13,
   "metadata": {},
   "outputs": [
    {
     "data": {
      "text/plain": [
       "Id               0\n",
       "Store            0\n",
       "DayOfWeek        0\n",
       "Date             0\n",
       "Open             0\n",
       "Promo            0\n",
       "StateHoliday     0\n",
       "SchoolHoliday    0\n",
       "dtype: int64"
      ]
     },
     "execution_count": 13,
     "metadata": {},
     "output_type": "execute_result"
    }
   ],
   "source": [
    "\n",
    "# Check for any remaining missing values\n",
    "cleaned_test_df.isnull().sum()\n"
   ]
  },
  {
   "cell_type": "code",
   "execution_count": 16,
   "metadata": {},
   "outputs": [
    {
     "name": "stderr",
     "output_type": "stream",
     "text": [
      "2025-01-03 20:26:10,883 - SalesVisualizer - INFO - SalesVisualizer initialized with training and test data.\n"
     ]
    },
    {
     "name": "stdout",
     "output_type": "stream",
     "text": [
      "SalesVisualizer initialized successfully.\n"
     ]
    }
   ],
   "source": [
    "# Initialize SalesVisualizer\n",
    "visualizer = SalesVisualizer(train_df=cleaned_df, test_df=cleaned_test_df)\n",
    "print(\"SalesVisualizer initialized successfully.\")"
   ]
  },
  {
   "cell_type": "code",
   "execution_count": 17,
   "metadata": {},
   "outputs": [
    {
     "name": "stderr",
     "output_type": "stream",
     "text": [
      "2025-01-03 20:26:50,655 - SalesVisualizer - INFO - Comparing promotion distribution between training and test datasets.\n"
     ]
    },
    {
     "data": {
      "image/png": "[encoded data removed]",
      "text/plain": [
       "<Figure size 1000x600 with 1 Axes>"
      ]
     },
     "metadata": {},
     "output_type": "display_data"
    },
    {
     "name": "stderr",
     "output_type": "stream",
     "text": [
      "2025-01-03 20:27:07,578 - SalesVisualizer - INFO - Promotion distribution plot generated successfully.\n"
     ]
    }
   ],
   "source": [
    "#Check for distribution in both training and test sets\n",
    "visualizer.compare_promo_distribution()\n"
   ]
  }
 ],
 "metadata": {
  "kernelspec": {
   "display_name": "env",
   "language": "python",
   "name": "python3"
  },
  "language_info": {
   "codemirror_mode": {
    "name": "ipython",
    "version": 3
   },
   "file_extension": ".py",
   "mimetype": "text/x-python",
   "name": "python",
   "nbconvert_exporter": "python",
   "pygments_lexer": "ipython3",
   "version": "3.10.5"
  }
 },
 "nbformat": 4,
 "nbformat_minor": 2
}
